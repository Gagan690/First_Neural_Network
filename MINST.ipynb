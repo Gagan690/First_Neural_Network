{
  "nbformat": 4,
  "nbformat_minor": 0,
  "metadata": {
    "colab": {
      "provenance": [],
      "gpuType": "T4"
    },
    "kernelspec": {
      "name": "python3",
      "display_name": "Python 3"
    },
    "language_info": {
      "name": "python"
    },
    "accelerator": "GPU"
  },
  "cells": [
    {
      "cell_type": "code",
      "execution_count": 2,
      "metadata": {
        "id": "j-Zn84BK2-64"
      },
      "outputs": [],
      "source": [
        "import torch\n",
        "import torch.nn as nn\n",
        "import torch.optim as optim\n",
        "from torchvision import datasets, transforms\n",
        "from torch.utils.data import DataLoader\n"
      ]
    },
    {
      "cell_type": "code",
      "source": [
        "# Define the LeNet architecture\n",
        "class LeNet(nn.Module):\n",
        "    def __init__(self):\n",
        "        super(LeNet, self).__init__()\n",
        "        self.conv1 = nn.Conv2d(1, 6, kernel_size=5, stride=1, padding=2)  # Input: 1x28x28, Output: 6x28x28\n",
        "        self.conv2 = nn.Conv2d(6, 16, kernel_size=5, stride=1)  # Input: 6x28x28, Output: 16x24x24\n",
        "        self.fc1 = nn.Linear(16 * 5 * 5, 120)  # Fully connected layer\n",
        "        self.fc2 = nn.Linear(120, 84)\n",
        "        self.fc3 = nn.Linear(84, 10)  # Output layer for 10 classes\n",
        "\n",
        "    def forward(self, x):\n",
        "        x = torch.relu(self.conv1(x))\n",
        "        x = torch.max_pool2d(x, kernel_size=2, stride=2)  # Output: 6x14x14\n",
        "        x = torch.relu(self.conv2(x))\n",
        "        x = torch.max_pool2d(x, kernel_size=2, stride=2)  # Output: 16x5x5\n",
        "        x = x.view(-1, 16 * 5 * 5)  # Flatten\n",
        "        x = torch.relu(self.fc1(x))\n",
        "        x = torch.relu(self.fc2(x))\n",
        "        x = self.fc3(x)  # Output logits\n",
        "        return x\n",
        "\n"
      ],
      "metadata": {
        "id": "IqU1c-5G4Iwf"
      },
      "execution_count": 3,
      "outputs": []
    },
    {
      "cell_type": "code",
      "source": [
        "# Data preparation\n",
        "transform = transforms.Compose([\n",
        "    transforms.ToTensor(),\n",
        "    transforms.Normalize((0.5,), (0.5,))  # Normalize to mean 0, std 1\n",
        "])\n",
        "\n",
        "train_dataset = datasets.MNIST(root=\"./data\", train=True, download=True, transform=transform)\n",
        "test_dataset = datasets.MNIST(root=\"./data\", train=False, download=True, transform=transform)\n",
        "\n",
        "train_loader = DataLoader(train_dataset, batch_size=64, shuffle=True)\n",
        "test_loader = DataLoader(test_dataset, batch_size=1000, shuffle=False)\n",
        "\n"
      ],
      "metadata": {
        "id": "SEar4o4O4Sqb"
      },
      "execution_count": 4,
      "outputs": []
    },
    {
      "cell_type": "code",
      "source": [
        "# Model, loss function, optimizer\n",
        "model = LeNet()\n",
        "device = torch.device(\"cuda\" if torch.cuda.is_available() else \"cpu\")\n",
        "model = model.to(device)\n",
        "\n",
        "criterion = nn.CrossEntropyLoss()\n",
        "optimizer = optim.SGD(model.parameters(), lr=0.01, momentum=0.9)\n",
        "\n"
      ],
      "metadata": {
        "id": "lEVOWVVP4ac6"
      },
      "execution_count": 5,
      "outputs": []
    },
    {
      "cell_type": "code",
      "source": [
        "# Training loop\n",
        "def train(model, device, train_loader, optimizer, criterion, epoch):\n",
        "    model.train()\n",
        "    for batch_idx, (data, target) in enumerate(train_loader):\n",
        "        data, target = data.to(device), target.to(device)\n",
        "\n",
        "        # Forward pass\n",
        "        output = model(data)\n",
        "        loss = criterion(output, target)\n",
        "\n",
        "        # Backward pass\n",
        "        optimizer.zero_grad()\n",
        "        loss.backward()\n",
        "        optimizer.step()\n",
        "\n",
        "        if batch_idx % 100 == 0:\n",
        "            print(f\"Train Epoch: {epoch} [{batch_idx * len(data)}/{len(train_loader.dataset)} ({100. * batch_idx / len(train_loader):.0f}%)]\\tLoss: {loss.item():.6f}\")\n",
        "\n"
      ],
      "metadata": {
        "id": "qHg9uIHF4eqM"
      },
      "execution_count": 6,
      "outputs": []
    },
    {
      "cell_type": "code",
      "source": [
        "# Testing loop\n",
        "def test(model, device, test_loader, criterion):\n",
        "    model.eval()\n",
        "    test_loss = 0\n",
        "    correct = 0\n",
        "    with torch.no_grad():\n",
        "        for data, target in test_loader:\n",
        "            data, target = data.to(device), target.to(device)\n",
        "            output = model(data)\n",
        "\n",
        "            # Sum up batch loss\n",
        "            test_loss += criterion(output, target).item()\n",
        "\n",
        "            # Get the index of the max log-probability\n",
        "            pred = output.argmax(dim=1, keepdim=True)\n",
        "            correct += pred.eq(target.view_as(pred)).sum().item()\n",
        "\n",
        "    test_loss /= len(test_loader.dataset)\n",
        "    print(f\"\\nTest set: Average loss: {test_loss:.4f}, Accuracy: {correct}/{len(test_loader.dataset)} ({100. * correct / len(test_loader.dataset):.0f}%)\\n\")\n"
      ],
      "metadata": {
        "id": "yfPHYwF64i-_"
      },
      "execution_count": 7,
      "outputs": []
    },
    {
      "cell_type": "code",
      "source": [
        "# Main training/testing process\n",
        "num_epochs = 10\n",
        "for epoch in range(1, num_epochs + 1):\n",
        "    train(model, device, train_loader, optimizer, criterion, epoch)\n",
        "    test(model, device, test_loader, criterion)"
      ],
      "metadata": {
        "colab": {
          "base_uri": "https://localhost:8080/"
        },
        "id": "qiqWRxEE4pFe",
        "outputId": "ac354259-205a-4d1b-deeb-24cda31b6979"
      },
      "execution_count": 8,
      "outputs": [
        {
          "output_type": "stream",
          "name": "stdout",
          "text": [
            "Train Epoch: 1 [0/60000 (0%)]\tLoss: 2.303926\n",
            "Train Epoch: 1 [6400/60000 (11%)]\tLoss: 1.221195\n",
            "Train Epoch: 1 [12800/60000 (21%)]\tLoss: 0.200158\n",
            "Train Epoch: 1 [19200/60000 (32%)]\tLoss: 0.073620\n",
            "Train Epoch: 1 [25600/60000 (43%)]\tLoss: 0.226836\n",
            "Train Epoch: 1 [32000/60000 (53%)]\tLoss: 0.156287\n",
            "Train Epoch: 1 [38400/60000 (64%)]\tLoss: 0.159469\n",
            "Train Epoch: 1 [44800/60000 (75%)]\tLoss: 0.100627\n",
            "Train Epoch: 1 [51200/60000 (85%)]\tLoss: 0.216015\n",
            "Train Epoch: 1 [57600/60000 (96%)]\tLoss: 0.158843\n",
            "\n",
            "Test set: Average loss: 0.0001, Accuracy: 9736/10000 (97%)\n",
            "\n",
            "Train Epoch: 2 [0/60000 (0%)]\tLoss: 0.137380\n",
            "Train Epoch: 2 [6400/60000 (11%)]\tLoss: 0.196022\n",
            "Train Epoch: 2 [12800/60000 (21%)]\tLoss: 0.104287\n",
            "Train Epoch: 2 [19200/60000 (32%)]\tLoss: 0.054255\n",
            "Train Epoch: 2 [25600/60000 (43%)]\tLoss: 0.075574\n",
            "Train Epoch: 2 [32000/60000 (53%)]\tLoss: 0.109670\n",
            "Train Epoch: 2 [38400/60000 (64%)]\tLoss: 0.024280\n",
            "Train Epoch: 2 [44800/60000 (75%)]\tLoss: 0.054277\n",
            "Train Epoch: 2 [51200/60000 (85%)]\tLoss: 0.056697\n",
            "Train Epoch: 2 [57600/60000 (96%)]\tLoss: 0.144334\n",
            "\n",
            "Test set: Average loss: 0.0001, Accuracy: 9829/10000 (98%)\n",
            "\n",
            "Train Epoch: 3 [0/60000 (0%)]\tLoss: 0.062813\n",
            "Train Epoch: 3 [6400/60000 (11%)]\tLoss: 0.040165\n",
            "Train Epoch: 3 [12800/60000 (21%)]\tLoss: 0.041798\n",
            "Train Epoch: 3 [19200/60000 (32%)]\tLoss: 0.035721\n",
            "Train Epoch: 3 [25600/60000 (43%)]\tLoss: 0.034045\n",
            "Train Epoch: 3 [32000/60000 (53%)]\tLoss: 0.024811\n",
            "Train Epoch: 3 [38400/60000 (64%)]\tLoss: 0.031644\n",
            "Train Epoch: 3 [44800/60000 (75%)]\tLoss: 0.053386\n",
            "Train Epoch: 3 [51200/60000 (85%)]\tLoss: 0.050134\n",
            "Train Epoch: 3 [57600/60000 (96%)]\tLoss: 0.334029\n",
            "\n",
            "Test set: Average loss: 0.0000, Accuracy: 9842/10000 (98%)\n",
            "\n",
            "Train Epoch: 4 [0/60000 (0%)]\tLoss: 0.085293\n",
            "Train Epoch: 4 [6400/60000 (11%)]\tLoss: 0.002940\n",
            "Train Epoch: 4 [12800/60000 (21%)]\tLoss: 0.014387\n",
            "Train Epoch: 4 [19200/60000 (32%)]\tLoss: 0.015182\n",
            "Train Epoch: 4 [25600/60000 (43%)]\tLoss: 0.011752\n",
            "Train Epoch: 4 [32000/60000 (53%)]\tLoss: 0.022280\n",
            "Train Epoch: 4 [38400/60000 (64%)]\tLoss: 0.031620\n",
            "Train Epoch: 4 [44800/60000 (75%)]\tLoss: 0.098302\n",
            "Train Epoch: 4 [51200/60000 (85%)]\tLoss: 0.059341\n",
            "Train Epoch: 4 [57600/60000 (96%)]\tLoss: 0.055648\n",
            "\n",
            "Test set: Average loss: 0.0000, Accuracy: 9879/10000 (99%)\n",
            "\n",
            "Train Epoch: 5 [0/60000 (0%)]\tLoss: 0.006360\n",
            "Train Epoch: 5 [6400/60000 (11%)]\tLoss: 0.002839\n",
            "Train Epoch: 5 [12800/60000 (21%)]\tLoss: 0.004149\n",
            "Train Epoch: 5 [19200/60000 (32%)]\tLoss: 0.136157\n",
            "Train Epoch: 5 [25600/60000 (43%)]\tLoss: 0.009078\n",
            "Train Epoch: 5 [32000/60000 (53%)]\tLoss: 0.008265\n",
            "Train Epoch: 5 [38400/60000 (64%)]\tLoss: 0.007418\n",
            "Train Epoch: 5 [44800/60000 (75%)]\tLoss: 0.003491\n",
            "Train Epoch: 5 [51200/60000 (85%)]\tLoss: 0.112923\n",
            "Train Epoch: 5 [57600/60000 (96%)]\tLoss: 0.040732\n",
            "\n",
            "Test set: Average loss: 0.0000, Accuracy: 9858/10000 (99%)\n",
            "\n",
            "Train Epoch: 6 [0/60000 (0%)]\tLoss: 0.112872\n",
            "Train Epoch: 6 [6400/60000 (11%)]\tLoss: 0.015218\n",
            "Train Epoch: 6 [12800/60000 (21%)]\tLoss: 0.019668\n",
            "Train Epoch: 6 [19200/60000 (32%)]\tLoss: 0.009858\n",
            "Train Epoch: 6 [25600/60000 (43%)]\tLoss: 0.005560\n",
            "Train Epoch: 6 [32000/60000 (53%)]\tLoss: 0.002447\n",
            "Train Epoch: 6 [38400/60000 (64%)]\tLoss: 0.034126\n",
            "Train Epoch: 6 [44800/60000 (75%)]\tLoss: 0.111760\n",
            "Train Epoch: 6 [51200/60000 (85%)]\tLoss: 0.039206\n",
            "Train Epoch: 6 [57600/60000 (96%)]\tLoss: 0.030485\n",
            "\n",
            "Test set: Average loss: 0.0000, Accuracy: 9872/10000 (99%)\n",
            "\n",
            "Train Epoch: 7 [0/60000 (0%)]\tLoss: 0.043279\n",
            "Train Epoch: 7 [6400/60000 (11%)]\tLoss: 0.010001\n",
            "Train Epoch: 7 [12800/60000 (21%)]\tLoss: 0.004071\n",
            "Train Epoch: 7 [19200/60000 (32%)]\tLoss: 0.011553\n",
            "Train Epoch: 7 [25600/60000 (43%)]\tLoss: 0.014500\n",
            "Train Epoch: 7 [32000/60000 (53%)]\tLoss: 0.013251\n",
            "Train Epoch: 7 [38400/60000 (64%)]\tLoss: 0.004044\n",
            "Train Epoch: 7 [44800/60000 (75%)]\tLoss: 0.025529\n",
            "Train Epoch: 7 [51200/60000 (85%)]\tLoss: 0.002360\n",
            "Train Epoch: 7 [57600/60000 (96%)]\tLoss: 0.006223\n",
            "\n",
            "Test set: Average loss: 0.0000, Accuracy: 9884/10000 (99%)\n",
            "\n",
            "Train Epoch: 8 [0/60000 (0%)]\tLoss: 0.001108\n",
            "Train Epoch: 8 [6400/60000 (11%)]\tLoss: 0.023808\n",
            "Train Epoch: 8 [12800/60000 (21%)]\tLoss: 0.001241\n",
            "Train Epoch: 8 [19200/60000 (32%)]\tLoss: 0.007376\n",
            "Train Epoch: 8 [25600/60000 (43%)]\tLoss: 0.104637\n",
            "Train Epoch: 8 [32000/60000 (53%)]\tLoss: 0.002928\n",
            "Train Epoch: 8 [38400/60000 (64%)]\tLoss: 0.031506\n",
            "Train Epoch: 8 [44800/60000 (75%)]\tLoss: 0.003979\n",
            "Train Epoch: 8 [51200/60000 (85%)]\tLoss: 0.001818\n",
            "Train Epoch: 8 [57600/60000 (96%)]\tLoss: 0.009904\n",
            "\n",
            "Test set: Average loss: 0.0000, Accuracy: 9884/10000 (99%)\n",
            "\n",
            "Train Epoch: 9 [0/60000 (0%)]\tLoss: 0.025521\n",
            "Train Epoch: 9 [6400/60000 (11%)]\tLoss: 0.005389\n",
            "Train Epoch: 9 [12800/60000 (21%)]\tLoss: 0.010965\n",
            "Train Epoch: 9 [19200/60000 (32%)]\tLoss: 0.012456\n",
            "Train Epoch: 9 [25600/60000 (43%)]\tLoss: 0.041709\n",
            "Train Epoch: 9 [32000/60000 (53%)]\tLoss: 0.025974\n",
            "Train Epoch: 9 [38400/60000 (64%)]\tLoss: 0.009090\n",
            "Train Epoch: 9 [44800/60000 (75%)]\tLoss: 0.002657\n",
            "Train Epoch: 9 [51200/60000 (85%)]\tLoss: 0.007102\n",
            "Train Epoch: 9 [57600/60000 (96%)]\tLoss: 0.011721\n",
            "\n",
            "Test set: Average loss: 0.0000, Accuracy: 9886/10000 (99%)\n",
            "\n",
            "Train Epoch: 10 [0/60000 (0%)]\tLoss: 0.004472\n",
            "Train Epoch: 10 [6400/60000 (11%)]\tLoss: 0.000272\n",
            "Train Epoch: 10 [12800/60000 (21%)]\tLoss: 0.005104\n",
            "Train Epoch: 10 [19200/60000 (32%)]\tLoss: 0.019159\n",
            "Train Epoch: 10 [25600/60000 (43%)]\tLoss: 0.009163\n",
            "Train Epoch: 10 [32000/60000 (53%)]\tLoss: 0.000473\n",
            "Train Epoch: 10 [38400/60000 (64%)]\tLoss: 0.000169\n",
            "Train Epoch: 10 [44800/60000 (75%)]\tLoss: 0.000292\n",
            "Train Epoch: 10 [51200/60000 (85%)]\tLoss: 0.003117\n",
            "Train Epoch: 10 [57600/60000 (96%)]\tLoss: 0.000360\n",
            "\n",
            "Test set: Average loss: 0.0000, Accuracy: 9885/10000 (99%)\n",
            "\n"
          ]
        }
      ]
    }
  ]
}
