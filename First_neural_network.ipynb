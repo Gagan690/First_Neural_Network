{
  "nbformat": 4,
  "nbformat_minor": 0,
  "metadata": {
    "colab": {
      "provenance": [],
      "gpuType": "T4"
    },
    "kernelspec": {
      "name": "python3",
      "display_name": "Python 3"
    },
    "language_info": {
      "name": "python"
    },
    "accelerator": "GPU"
  },
  "cells": [
    {
      "cell_type": "markdown",
      "source": [
        "Importing Libraries"
      ],
      "metadata": {
        "id": "ntmtZlrN03gx"
      }
    },
    {
      "cell_type": "code",
      "execution_count": null,
      "metadata": {
        "id": "1xYpLC2rQJl8"
      },
      "outputs": [],
      "source": [
        "import torch\n",
        "from torch import nn\n",
        "import random"
      ]
    },
    {
      "cell_type": "markdown",
      "source": [
        "Tensor Creation"
      ],
      "metadata": {
        "id": "Et4OXpDN1IIg"
      }
    },
    {
      "cell_type": "code",
      "source": [
        "def mystery(a,b):   # creating a contructor that return the calculated number\n",
        "  return torch.tensor(a+3*b)"
      ],
      "metadata": {
        "id": "AOXOxO-WQnm2"
      },
      "execution_count": null,
      "outputs": []
    },
    {
      "cell_type": "markdown",
      "source": [
        "Sequential Model"
      ],
      "metadata": {
        "id": "UNqYT1ON2Hh6"
      }
    },
    {
      "cell_type": "code",
      "source": [
        "model = nn.Sequential(nn.Linear(2,1))\n",
        "model"
      ],
      "metadata": {
        "colab": {
          "base_uri": "https://localhost:8080/"
        },
        "id": "RTq9Ygd0QzKg",
        "outputId": "5fd8663d-487f-4f10-a6dc-83161e89678e"
      },
      "execution_count": null,
      "outputs": [
        {
          "output_type": "execute_result",
          "data": {
            "text/plain": [
              "Sequential(\n",
              "  (0): Linear(in_features=2, out_features=1, bias=True)\n",
              ")"
            ]
          },
          "metadata": {},
          "execution_count": 3
        }
      ]
    },
    {
      "cell_type": "code",
      "source": [
        "criterion = nn.MSELoss()   # calcutaing mean square error loss function from PyTorch\n",
        "optimizer = torch.optim.SGD(model.parameters(), lr=0.01, momentum=0.9)   # using stochastic gradient descent (SGD) to minimze loss and adjust parameter"
      ],
      "metadata": {
        "id": "hirRC33UQ-zX"
      },
      "execution_count": null,
      "outputs": []
    },
    {
      "cell_type": "markdown",
      "source": [
        "Training Loop for Neural Network"
      ],
      "metadata": {
        "id": "wpLopJH03lA3"
      }
    },
    {
      "cell_type": "code",
      "source": [
        "for i in range(1000):\n",
        "  a = random.random()   # giving random floating values\n",
        "  b = random.random()   # giving random floating values\n",
        "  desiredOutput = mystery(a,b)\n",
        "\n",
        "  output = model(torch.tensor([a,b]))\n",
        "  loss = criterion(output.squeeze(),desiredOutput)   # calcuting model output and desired output\n",
        "\n",
        "  if (i%100)==0:\n",
        "    print(f\"Loss : {loss.item()}\")   # print loss after every 100 iteration\n",
        "\n",
        "  optimizer.zero_grad()   # reseting gradinates to model parameter to zero\n",
        "  loss.backward()   # using backpropogation to calculate loss\n",
        "  optimizer.step()   # updating model parameters"
      ],
      "metadata": {
        "colab": {
          "base_uri": "https://localhost:8080/"
        },
        "id": "DxZKWSofROyR",
        "outputId": "2cc7a13d-a479-4dda-b824-27736ad6d992"
      },
      "execution_count": null,
      "outputs": [
        {
          "output_type": "stream",
          "name": "stdout",
          "text": [
            "Loss : 0.5629106163978577\n",
            "Loss : 0.0029316269792616367\n",
            "Loss : 0.0015379165997728705\n",
            "Loss : 6.689521114822128e-07\n",
            "Loss : 2.4989225494209677e-05\n",
            "Loss : 3.216228151359246e-06\n",
            "Loss : 2.1082144030515337e-08\n",
            "Loss : 5.2532413974404335e-09\n",
            "Loss : 7.019460568358227e-10\n",
            "Loss : 0.0\n"
          ]
        }
      ]
    },
    {
      "cell_type": "code",
      "source": [
        "a = 1.0\n",
        "b = -1.0\n",
        "output = model(torch.tensor([a,b]))\n",
        "output.item()  # converting into pyton scalar number"
      ],
      "metadata": {
        "colab": {
          "base_uri": "https://localhost:8080/"
        },
        "id": "cJ5ZYpYXSgjs",
        "outputId": "b4582703-7a6a-481e-82dc-7d755e64838a"
      },
      "execution_count": null,
      "outputs": [
        {
          "output_type": "execute_result",
          "data": {
            "text/plain": [
              "-1.9999947547912598"
            ]
          },
          "metadata": {},
          "execution_count": 6
        }
      ]
    },
    {
      "cell_type": "code",
      "source": [
        "mystery(a,b)"
      ],
      "metadata": {
        "id": "il71YIYWSrcT",
        "outputId": "d192edef-4a03-4f5f-8dd3-41648165ce28",
        "colab": {
          "base_uri": "https://localhost:8080/"
        }
      },
      "execution_count": null,
      "outputs": [
        {
          "output_type": "execute_result",
          "data": {
            "text/plain": [
              "tensor(-2.)"
            ]
          },
          "metadata": {},
          "execution_count": 7
        }
      ]
    }
  ]
}