{
 "cells": [
  {
   "cell_type": "code",
   "execution_count": 1,
   "id": "047aed2f",
   "metadata": {},
   "outputs": [],
   "source": [
    "import torch\n",
    "import torch.nn as nn\n",
    "import torch.optim as optim\n",
    "import torch.nn.functional as F\n",
    "from torch.utils.data import DataLoader\n",
    "import torchvision.datasets as datasets\n",
    "import torchvision.transforms as transforms\n",
    "import pandas as pd\n",
    "import numpy as np\n",
    "from torch.utils.data import Dataset\n",
    "import matplotlib.pyplot as plt"
   ]
  },
  {
   "cell_type": "code",
   "execution_count": 2,
   "id": "b7678ffc",
   "metadata": {},
   "outputs": [],
   "source": [
    "class Net(nn.Module):\n",
    "  def __init__(self):\n",
    "    super().__init__()\n",
    "    self.fc1 = nn.Linear(9,10)\n",
    "    self.bn1 = nn.BatchNorm1d(10)\n",
    "    self.fc2 = nn.Linear(10,5)\n",
    "    self.bn2 = nn.BatchNorm1d(5)\n",
    "    self.fc3 = nn.Linear(5,1)\n",
    "    self.sigmoid = nn.Sigmoid()\n",
    "\n",
    "\n",
    "  def forward(self, x):\n",
    "    x = F.elu(self.fc1(x))\n",
    "    x = self.bn1(x)\n",
    "    x = F.elu(self.fc2(x))\n",
    "    x = self.bn2(x)\n",
    "    x = self.fc3(x)\n",
    "    x = self.sigmoid(x)\n",
    "    return x"
   ]
  },
  {
   "cell_type": "code",
   "execution_count": 3,
   "id": "dcbba7de",
   "metadata": {},
   "outputs": [],
   "source": [
    "class WaterDataset(Dataset):\n",
    "  def __init__(self, csv_path):\n",
    "    super().__init__()\n",
    "    df = pd.read_csv(csv_path)\n",
    "    # Handle missing values, e.g., by imputing with the mean\n",
    "    df = df.fillna(df.mean())\n",
    "    self.data = df.to_numpy()\n",
    "  def __len__(self):\n",
    "    return len(self.data)\n",
    "  def __getitem__(self, idx):\n",
    "    return self.data[idx][:-1], self.data[idx][-1]"
   ]
  },
  {
   "cell_type": "code",
   "execution_count": 4,
   "id": "3ea3d5ed",
   "metadata": {},
   "outputs": [
    {
     "name": "stdout",
     "output_type": "stream",
     "text": [
      "Feature : tensor([[6.6283e+00, 1.9887e+02, 1.5911e+04, 7.5179e+00, 3.4202e+02, 4.3792e+02,\n",
      "         1.5006e+01, 3.8846e+01, 4.4645e+00],\n",
      "        [3.4104e+00, 2.0740e+02, 4.9075e+04, 5.6674e+00, 3.0198e+02, 3.5152e+02,\n",
      "         1.5987e+01, 8.6639e+01, 3.7218e+00],\n",
      "        [6.4651e+00, 2.4127e+02, 4.3959e+04, 7.4202e+00, 3.0602e+02, 5.4460e+02,\n",
      "         2.0769e+01, 8.9647e+01, 3.7905e+00],\n",
      "        [8.5185e+00, 1.2826e+02, 3.2018e+04, 6.0587e+00, 4.5844e+02, 5.5414e+02,\n",
      "         1.5976e+01, 8.7472e+01, 4.1472e+00],\n",
      "        [6.7077e+00, 1.9929e+02, 1.7435e+04, 6.8099e+00, 3.3378e+02, 4.5473e+02,\n",
      "         1.4587e+01, 8.1378e+01, 3.8227e+00],\n",
      "        [7.5397e+00, 2.0196e+02, 2.6716e+04, 5.6374e+00, 3.3378e+02, 5.1635e+02,\n",
      "         1.4986e+01, 8.3537e+01, 4.2107e+00],\n",
      "        [8.9037e+00, 1.9422e+02, 1.3319e+04, 5.5669e+00, 3.2342e+02, 3.1735e+02,\n",
      "         1.7130e+01, 6.1429e+01, 4.3652e+00],\n",
      "        [2.9455e+00, 1.2675e+02, 1.6829e+04, 1.0597e+01, 3.3378e+02, 4.5623e+02,\n",
      "         1.0157e+01, 7.9311e+01, 5.0700e+00],\n",
      "        [6.0961e+00, 2.0065e+02, 1.6933e+04, 6.5422e+00, 3.3378e+02, 4.0446e+02,\n",
      "         9.0640e+00, 8.4057e+01, 2.9564e+00],\n",
      "        [7.5780e+00, 2.0473e+02, 1.9945e+04, 6.1927e+00, 3.3378e+02, 5.1748e+02,\n",
      "         1.3976e+01, 5.4638e+01, 3.5038e+00],\n",
      "        [7.9578e+00, 2.7673e+02, 1.7162e+04, 7.8415e+00, 3.9743e+02, 5.1442e+02,\n",
      "         1.4530e+01, 6.0560e+01, 3.4507e+00],\n",
      "        [7.6156e+00, 2.0487e+02, 8.4033e+03, 6.0123e+00, 4.1831e+02, 3.1118e+02,\n",
      "         1.2742e+01, 6.7282e+01, 4.2431e+00],\n",
      "        [6.9630e+00, 2.0682e+02, 2.4037e+04, 7.6915e+00, 3.5663e+02, 5.5227e+02,\n",
      "         8.5747e+00, 8.8620e+01, 4.7604e+00],\n",
      "        [5.1683e+00, 2.0627e+02, 1.7914e+04, 1.1240e+01, 3.3378e+02, 3.5770e+02,\n",
      "         4.9029e+00, 7.2085e+01, 3.8412e+00],\n",
      "        [3.9061e+00, 2.3340e+02, 3.2145e+04, 6.9948e+00, 3.4836e+02, 2.6945e+02,\n",
      "         9.6541e+00, 6.3743e+01, 3.9029e+00],\n",
      "        [6.4357e+00, 2.1472e+02, 9.3639e+03, 9.9976e+00, 2.7346e+02, 5.0835e+02,\n",
      "         1.2926e+01, 7.1429e+01, 4.9253e+00],\n",
      "        [6.9031e+00, 2.0692e+02, 1.7948e+04, 7.0480e+00, 3.3378e+02, 6.0199e+02,\n",
      "         1.1775e+01, 5.8176e+01, 4.4739e+00],\n",
      "        [7.8197e+00, 2.2511e+02, 1.6404e+04, 7.0933e+00, 3.1317e+02, 4.1321e+02,\n",
      "         1.5376e+01, 3.2682e+01, 2.4023e+00],\n",
      "        [7.3381e+00, 1.8885e+02, 3.0043e+04, 7.4676e+00, 3.0961e+02, 4.6550e+02,\n",
      "         1.1054e+01, 4.7184e+01, 3.7364e+00],\n",
      "        [7.3711e+00, 2.0772e+02, 2.4914e+04, 9.6163e+00, 3.6230e+02, 3.6317e+02,\n",
      "         1.1543e+01, 6.7721e+01, 4.4126e+00],\n",
      "        [7.2560e+00, 1.9665e+02, 4.4184e+04, 5.2656e+00, 2.6043e+02, 3.2425e+02,\n",
      "         8.1489e+00, 6.9375e+01, 4.5350e+00],\n",
      "        [5.6136e+00, 2.0457e+02, 1.6616e+04, 5.6189e+00, 3.1610e+02, 3.4152e+02,\n",
      "         1.5174e+01, 7.3450e+01, 3.4651e+00],\n",
      "        [4.6661e+00, 1.7129e+02, 3.5680e+04, 4.8944e+00, 3.1461e+02, 5.0190e+02,\n",
      "         1.4211e+01, 5.6910e+01, 4.5569e+00],\n",
      "        [6.5049e+00, 1.5918e+02, 1.3403e+04, 6.9583e+00, 2.9608e+02, 3.5997e+02,\n",
      "         1.5637e+01, 6.3514e+01, 3.7484e+00],\n",
      "        [6.9619e+00, 2.2360e+02, 3.1102e+04, 3.6921e+00, 3.4383e+02, 5.3022e+02,\n",
      "         1.3675e+01, 7.0435e+01, 3.4467e+00],\n",
      "        [5.9866e+00, 2.7589e+02, 2.1229e+04, 8.9404e+00, 3.3378e+02, 3.5411e+02,\n",
      "         1.1783e+01, 9.2228e+01, 5.0515e+00],\n",
      "        [5.7012e+00, 2.3352e+02, 4.1412e+04, 5.8955e+00, 3.1016e+02, 5.0977e+02,\n",
      "         2.2687e+01, 7.3752e+01, 3.4031e+00],\n",
      "        [8.8018e+00, 2.0541e+02, 1.3121e+04, 6.7018e+00, 2.6348e+02, 3.9928e+02,\n",
      "         1.8909e+01, 6.7963e+01, 4.0315e+00],\n",
      "        [7.6021e+00, 1.9935e+02, 1.1346e+04, 6.9004e+00, 3.0497e+02, 2.1032e+02,\n",
      "         1.7926e+01, 6.2847e+01, 3.6989e+00],\n",
      "        [7.0618e+00, 2.1595e+02, 2.4992e+04, 9.1384e+00, 3.2147e+02, 4.3142e+02,\n",
      "         1.2950e+01, 6.4026e+01, 4.2990e+00],\n",
      "        [4.8556e+00, 1.4579e+02, 1.4905e+04, 9.8297e+00, 3.9267e+02, 4.5929e+02,\n",
      "         1.0447e+01, 5.2289e+01, 4.6972e+00],\n",
      "        [8.8174e+00, 1.7575e+02, 2.3173e+04, 6.7309e+00, 3.6715e+02, 5.5207e+02,\n",
      "         7.7331e+00, 9.1443e+01, 3.8641e+00]], dtype=torch.float64)\n",
      "Labels : tensor([0., 0., 0., 0., 1., 0., 0., 0., 0., 0., 0., 0., 0., 0., 0., 1., 1., 0.,\n",
      "        0., 0., 1., 0., 1., 1., 0., 0., 0., 1., 0., 0., 1., 0.],\n",
      "       dtype=torch.float64)\n"
     ]
    }
   ],
   "source": [
    "dataset = WaterDataset('Dataset/water_potability.csv')\n",
    "\n",
    "dataloader = DataLoader(dataset, batch_size=32, shuffle=True)\n",
    "feature , labels = next(iter(dataloader))\n",
    "\n",
    "print(f\"Feature : {feature}\")\n",
    "print(f\"Labels : {labels}\")"
   ]
  },
  {
   "cell_type": "code",
   "execution_count": 5,
   "id": "1d0fde2a",
   "metadata": {},
   "outputs": [],
   "source": [
    "net = Net()"
   ]
  },
  {
   "cell_type": "code",
   "execution_count": 6,
   "id": "dee179b2",
   "metadata": {},
   "outputs": [
    {
     "name": "stdout",
     "output_type": "stream",
     "text": [
      "Epoch : 0 , Loss : 0.6258886456489563\n",
      "Epoch : 1 , Loss : 0.6525383591651917\n",
      "Epoch : 2 , Loss : 0.7569179534912109\n",
      "Epoch : 3 , Loss : 0.7042312622070312\n",
      "Epoch : 4 , Loss : 0.7197045683860779\n",
      "Epoch : 5 , Loss : 0.6023091673851013\n",
      "Epoch : 6 , Loss : 0.728320300579071\n",
      "Epoch : 7 , Loss : 0.6344703435897827\n",
      "Epoch : 8 , Loss : 0.6730366349220276\n",
      "Epoch : 9 , Loss : 0.6339048147201538\n",
      "Epoch : 10 , Loss : 0.6233407855033875\n",
      "Epoch : 11 , Loss : 0.7969539761543274\n",
      "Epoch : 12 , Loss : 0.6594261527061462\n",
      "Epoch : 13 , Loss : 0.6499658226966858\n",
      "Epoch : 14 , Loss : 0.6701683402061462\n",
      "Epoch : 15 , Loss : 0.6838014125823975\n",
      "Epoch : 16 , Loss : 0.6655528545379639\n",
      "Epoch : 17 , Loss : 0.6884009838104248\n",
      "Epoch : 18 , Loss : 0.7163702845573425\n",
      "Epoch : 19 , Loss : 0.574576199054718\n",
      "Epoch : 20 , Loss : 0.7971964478492737\n",
      "Epoch : 21 , Loss : 0.5675024390220642\n",
      "Epoch : 22 , Loss : 0.5337291359901428\n",
      "Epoch : 23 , Loss : 0.6426097750663757\n",
      "Epoch : 24 , Loss : 0.7214091420173645\n",
      "Epoch : 25 , Loss : 0.6454519629478455\n",
      "Epoch : 26 , Loss : 0.6755588054656982\n",
      "Epoch : 27 , Loss : 0.5699242949485779\n",
      "Epoch : 28 , Loss : 0.6074435710906982\n",
      "Epoch : 29 , Loss : 0.6152854561805725\n",
      "Epoch : 30 , Loss : 0.6838817000389099\n",
      "Epoch : 31 , Loss : 0.6285544037818909\n",
      "Epoch : 32 , Loss : 0.738605797290802\n",
      "Epoch : 33 , Loss : 0.6827458739280701\n",
      "Epoch : 34 , Loss : 0.6824093461036682\n",
      "Epoch : 35 , Loss : 0.7104974389076233\n",
      "Epoch : 36 , Loss : 0.5801747441291809\n",
      "Epoch : 37 , Loss : 0.7581835389137268\n",
      "Epoch : 38 , Loss : 0.6734136939048767\n",
      "Epoch : 39 , Loss : 0.6740493178367615\n",
      "Epoch : 40 , Loss : 0.6361486315727234\n",
      "Epoch : 41 , Loss : 0.6115014553070068\n",
      "Epoch : 42 , Loss : 0.7642400860786438\n",
      "Epoch : 43 , Loss : 0.6566833257675171\n",
      "Epoch : 44 , Loss : 0.6907587051391602\n",
      "Epoch : 45 , Loss : 0.7428320050239563\n",
      "Epoch : 46 , Loss : 0.7031769156455994\n",
      "Epoch : 47 , Loss : 0.5368569493293762\n",
      "Epoch : 48 , Loss : 0.6702290177345276\n",
      "Epoch : 49 , Loss : 0.707561194896698\n"
     ]
    }
   ],
   "source": [
    "criterion = nn.BCELoss()\n",
    "optimizer = optim.SGD(net.parameters(), lr=0.001, momentum=0.9)\n",
    "\n",
    "for epoch in range(50):\n",
    "  for features , labels in dataloader:\n",
    "    optimizer.zero_grad()\n",
    "    outputs = net(features.float()) # Convert features to Float\n",
    "    loss = criterion(\n",
    "        outputs, labels.view(-1,1).float() # Convert labels to Float\n",
    "    )\n",
    "    loss.backward()\n",
    "    optimizer.step()\n",
    "  print(f\"Epoch : {epoch} , Loss : {loss.item()}\")"
   ]
  },
  {
   "cell_type": "code",
   "execution_count": 7,
   "id": "bb6a1092",
   "metadata": {},
   "outputs": [
    {
     "name": "stdout",
     "output_type": "stream",
     "text": [
      "Accuracy : 0.610805869102478\n"
     ]
    }
   ],
   "source": [
    "from torchmetrics import Accuracy\n",
    "\n",
    "acc = Accuracy(task='binary')\n",
    "net.eval()\n",
    "with torch.no_grad():\n",
    "  for features, labels in dataloader:\n",
    "    outputs = net(features.float())\n",
    "    pred = (outputs > 0.5).float()\n",
    "    acc(pred, labels.view(-1,1).float())\n",
    "print(f\"Accuracy : {acc.compute()}\")\n"
   ]
  }
 ],
 "metadata": {
  "kernelspec": {
   "display_name": ".venv (3.13.2)",
   "language": "python",
   "name": "python3"
  },
  "language_info": {
   "codemirror_mode": {
    "name": "ipython",
    "version": 3
   },
   "file_extension": ".py",
   "mimetype": "text/x-python",
   "name": "python",
   "nbconvert_exporter": "python",
   "pygments_lexer": "ipython3",
   "version": "3.13.2"
  }
 },
 "nbformat": 4,
 "nbformat_minor": 5
}
