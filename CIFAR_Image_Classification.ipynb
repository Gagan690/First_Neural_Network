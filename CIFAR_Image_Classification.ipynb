{
  "nbformat": 4,
  "nbformat_minor": 0,
  "metadata": {
    "colab": {
      "provenance": []
    },
    "kernelspec": {
      "name": "python3",
      "display_name": "Python 3"
    },
    "language_info": {
      "name": "python"
    }
  },
  "cells": [
    {
      "cell_type": "markdown",
      "source": [
        "# Importing Libraries\n",
        "Here we are using PyTorch to train our neural network for image classification\n"
      ],
      "metadata": {
        "id": "42FG-vye9yzH"
      }
    },
    {
      "cell_type": "code",
      "execution_count": null,
      "metadata": {
        "id": "nIKzGqio2k7b"
      },
      "outputs": [],
      "source": [
        "import torch\n",
        "# torch is a library that provide fundamental tools for buliding and training nerual network\n",
        "\n",
        "import torchvision\n",
        "# this torchvision provide dataset (CIFAR10 , imageNet),pretrained and image transformated\n",
        "\n",
        "import torchvision.transforms as transforms\n",
        "# it perpare the data before putting it into deep learning model\n",
        "\n",
        "import torch.nn as nn\n",
        "#this model create a neural network like convolutional layer , pooling layer and fully connected layer\n",
        "\n",
        "import torch.optim as optim\n",
        "# this is a subset of torch , which uses an optimaztion algorithms which is used in adjust the weight aand bieas to minimize the differnece between\n",
        "# perdicted and actual value"
      ]
    },
    {
      "cell_type": "code",
      "source": [
        "# Define the transformations\n",
        "\n",
        "transform = transforms.Compose(             # this function create a squence of images in a list by placing them one by one\n",
        "    [transforms.ToTensor(),                 # this ToTensor convert PIL or numpy array into PyTorch tensor and automaticaly scale pixcel in 0 to 1\n",
        "     transforms.Normalize((0.5, 0.5, 0.5), (0.5, 0.5, 0.5))])  # in this normalization is done and stablize the training and fast converage"
      ],
      "metadata": {
        "id": "osRotd-7260C"
      },
      "execution_count": null,
      "outputs": []
    },
    {
      "cell_type": "code",
      "source": [
        "# Load the CIFAR-10 training dataset\n",
        "trainset = torchvision.datasets.CIFAR10(root='./data',     # here we are importing CIFAR dataset into training and loacting the file ./data\n",
        "                                        train=True,        # training is on\n",
        "                                        download=True,     # downloading the dataset\n",
        "                                        transform=transform)  # applying image transformation as early its done\n",
        "trainloader = torch.utils.data.DataLoader(trainset,          # making dataloader make itration easy and faster by PyTorch\n",
        "                                          batch_size=4,      # this says that compiler will see 4 images at a time\n",
        "                                          shuffle=True,      # Shuffling is important to prevent the model from memorizing the order of the data and to improve generalization.\n",
        "                                          num_workers=2)     # this load data in 2 worker to procsess data in parallel"
      ],
      "metadata": {
        "colab": {
          "base_uri": "https://localhost:8080/"
        },
        "id": "PWJ1Xbtj2-Q4",
        "outputId": "02eda532-3266-42b1-99f9-c0ec93dc0b2d"
      },
      "execution_count": null,
      "outputs": [
        {
          "output_type": "stream",
          "name": "stdout",
          "text": [
            "Downloading https://www.cs.toronto.edu/~kriz/cifar-10-python.tar.gz to ./data/cifar-10-python.tar.gz\n"
          ]
        },
        {
          "output_type": "stream",
          "name": "stderr",
          "text": [
            "100%|██████████| 170M/170M [00:14<00:00, 12.1MB/s]\n"
          ]
        },
        {
          "output_type": "stream",
          "name": "stdout",
          "text": [
            "Extracting ./data/cifar-10-python.tar.gz to ./data\n"
          ]
        }
      ]
    },
    {
      "cell_type": "code",
      "source": [
        "# Load the CIFAR-10 test dataset\n",
        "testset = torchvision.datasets.CIFAR10(root='./data',       # here we are importing CIFAR dataset into testing\n",
        "                                       train=False,         # training is off\n",
        "                                       download=True,       # downloading is on\n",
        "                                       transform=transform) # applying image transformation\n",
        "testloader = torch.utils.data.DataLoader(testset,          # the test dataset we just created\n",
        "                                         batch_size=4,     # batch is same as trained dataset\n",
        "                                         shuffle=False,    # randomness is off\n",
        "                                         num_workers=2)    # this load data in 2 worker to procsess data in parallel"
      ],
      "metadata": {
        "colab": {
          "base_uri": "https://localhost:8080/"
        },
        "id": "3yeEWWSA3Byi",
        "outputId": "561704a0-5a97-4fb2-8743-deb481708612"
      },
      "execution_count": null,
      "outputs": [
        {
          "output_type": "stream",
          "name": "stdout",
          "text": [
            "Files already downloaded and verified\n"
          ]
        }
      ]
    },
    {
      "cell_type": "code",
      "source": [
        "# Define the classes in CIFAR-10\n",
        "classes = ('plane', 'car', 'bird', 'cat',\n",
        "           'deer', 'dog', 'frog', 'horse', 'ship', 'truck')"
      ],
      "metadata": {
        "id": "rzauNjZI3HKu"
      },
      "execution_count": null,
      "outputs": []
    },
    {
      "cell_type": "code",
      "source": [
        "# Define a simple CNN\n",
        "class Net(nn.Module):               # inherting the functions from nn.module\n",
        "    def __init__(self):\n",
        "        super(Net, self).__init__() # this call the constructer of parent class\n",
        "        self.conv1 = nn.Conv2d(3, 6, 5)  # its a 2d convulational layer in which 3 is input layer(rgb) , 6 is output layer , and 5 is kernel\n",
        "        self.pool = nn.MaxPool2d(2, 2)   # pooling layer in which 2 is polling sides and 2 is stride\n",
        "        self.conv2 = nn.Conv2d(6, 16, 5) # second convulational layer 6 input channels , 16 output channels and 5 kernel as same\n",
        "        self.fc1 = nn.Linear(16 * 5 * 5, 120)  # first fully connected layer in which 15*5*5 is input layer came form convulational layer and 120 is number of output feature\n",
        "        self.fc2 = nn.Linear(120, 84) # second fcl and which has 120 input and 84 output feature\n",
        "        self.fc3 = nn.Linear(84, 10) # third fcl and in which 84 input and 10 output\n",
        "\n",
        "    def forward(self, x):\n",
        "        x = self.pool(torch.relu(self.conv1(x)))   # applying activation function on convulation layer and relu replace negative value into 0\n",
        "        x = self.pool(torch.relu(self.conv2(x)))  # applying activaton function\n",
        "        x = x.view(-1, 16 * 5 * 5)                # faltting the matrix\n",
        "        x = torch.relu(self.fc1(x))              # applying activation function\n",
        "        x = torch.relu(self.fc2(x))              # applying activation function\n",
        "        x = self.fc3(x)                          # final fully connected layer\n",
        "        return x                                 # returning x\n",
        "\n",
        "net = Net()     # putting class in a variable"
      ],
      "metadata": {
        "id": "m-akzWfV3NSE"
      },
      "execution_count": null,
      "outputs": []
    },
    {
      "cell_type": "code",
      "source": [
        "# Define the loss function and optimizer\n",
        "criterion = nn.CrossEntropyLoss()               # commanly used for calculating loss function by taking diff btw predicted ad actuall value\n",
        "optimizer = optim.SGD(net.parameters(), lr=0.001, momentum=0.9)   # SDG is Stochastic Gradient Descent. SGD used to train nerual networks\n",
        "                                                                  # net.parameter provide optim parameter to upated wei and bias while training\n",
        "                                                                  # lr is learing rate"
      ],
      "metadata": {
        "id": "I6NQ_wCi3Q93"
      },
      "execution_count": null,
      "outputs": []
    },
    {
      "cell_type": "code",
      "source": [
        "# Train the network\n",
        "for epoch in range(2):  # loop over the dataset multiple times\n",
        "                        # here the code will run in 2 epcopes\n",
        "\n",
        "    running_loss = 0.0  # this will track down the loss during the training\n",
        "    for i, data in enumerate(trainloader, 0):   # here enumerate provide data to both index i and data at same time form trainloader\n",
        "        # get the inputs; data is a list of [inputs, labels]\n",
        "        inputs, labels = data\n",
        "\n",
        "        # zero the parameter gradients\n",
        "        optimizer.zero_grad()\n",
        "\n",
        "        # forward + backward + optimize\n",
        "        outputs = net(inputs)         # perrform the forward pass\n",
        "        loss = criterion(outputs, labels)  # diff btw predicted and actuall\n",
        "        loss.backward()    # calcuting backpropogation\n",
        "        optimizer.step()   # updating parameters\n",
        "\n",
        "        # print statistics\n",
        "        running_loss += loss.item()  # adding current batch loss to running loss\n",
        "        if i % 2000 == 1999:    # print every 2000 mini-batches (this is because the index starts form 0 that's  why 1999 is placed)\n",
        "            print('[%d, %5d] loss: %.3f' %\n",
        "                  (epoch + 1, i + 1, running_loss / 2000))\n",
        "            running_loss = 0.0\n",
        "\n",
        "print('Finished Training')"
      ],
      "metadata": {
        "colab": {
          "base_uri": "https://localhost:8080/"
        },
        "id": "1iOA43WB3Wtx",
        "outputId": "ab564f57-7f5b-400e-d3aa-135386f05a30"
      },
      "execution_count": null,
      "outputs": [
        {
          "output_type": "stream",
          "name": "stdout",
          "text": [
            "[1,  2000] loss: 2.163\n",
            "[1,  4000] loss: 1.819\n",
            "[1,  6000] loss: 1.665\n",
            "[1,  8000] loss: 1.575\n",
            "[1, 10000] loss: 1.524\n",
            "[1, 12000] loss: 1.474\n",
            "[2,  2000] loss: 1.406\n",
            "[2,  4000] loss: 1.382\n",
            "[2,  6000] loss: 1.387\n",
            "[2,  8000] loss: 1.329\n",
            "[2, 10000] loss: 1.303\n",
            "[2, 12000] loss: 1.298\n",
            "Finished Training\n"
          ]
        }
      ]
    },
    {
      "cell_type": "code",
      "source": [
        "# Test the network\n",
        "correct = 0   # this will track the coorect classified number of images\n",
        "total = 0   # this will calculate total number of images\n",
        "with torch.no_grad():   # torch.no_grad will tell PyTorch to not to caluted gradient while testing phase\n",
        "    for data in testloader:   ## placing tested data into data\n",
        "        images, labels = data  # extract image,labels and correspond to current batch\n",
        "        outputs = net(images)  # performing forward pass\n",
        "        _, predicted = torch.max(outputs.data, 1)  # predict the class label\n",
        "        total += labels.size(0) # upadte the number of images seen so far\n",
        "        correct += (predicted == labels).sum().item()  # count the correct classifed images\n",
        "\n",
        "print('Accuracy of the network on the 10000 test images: %d %%' % (\n",
        "    100 * correct / total))"
      ],
      "metadata": {
        "colab": {
          "base_uri": "https://localhost:8080/"
        },
        "id": "HfV1UhvK3c_K",
        "outputId": "505d84ed-54c8-49fc-8e5b-4955a9858c73"
      },
      "execution_count": null,
      "outputs": [
        {
          "output_type": "stream",
          "name": "stdout",
          "text": [
            "Accuracy of the network on the 10000 test images: 53 %\n"
          ]
        }
      ]
    }
  ]
}